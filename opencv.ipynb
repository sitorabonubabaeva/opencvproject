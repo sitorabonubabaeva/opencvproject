{
 "cells": [
  {
   "cell_type": "code",
   "execution_count": null,
   "id": "48ccd709",
   "metadata": {},
   "outputs": [],
   "source": [
    "import cv2\n",
    "\n",
    "cap = cv2.VideoCapture(0)\n",
    "cv2.namedWindow(\"camera\")\n",
    "\n",
    "while True:\n",
    "    \n",
    "    succes, frame = cap.read()\n",
    "    cv2.imshow(\"camera\", frame)\n",
    "    \n",
    "    if cv2.waitKey(10) == ord('q'): # Клавиша Esc\n",
    "        break\n",
    "        \n",
    "cap.release()\n",
    "cv2.destroyAllWindows()"
   ]
  },
  {
   "cell_type": "code",
   "execution_count": null,
   "id": "55e22421",
   "metadata": {},
   "outputs": [],
   "source": []
  }
 ],
 "metadata": {
  "kernelspec": {
   "display_name": "Python 3 (ipykernel)",
   "language": "python",
   "name": "python3"
  },
  "language_info": {
   "codemirror_mode": {
    "name": "ipython",
    "version": 3
   },
   "file_extension": ".py",
   "mimetype": "text/x-python",
   "name": "python",
   "nbconvert_exporter": "python",
   "pygments_lexer": "ipython3",
   "version": "3.9.13"
  }
 },
 "nbformat": 4,
 "nbformat_minor": 5
}
